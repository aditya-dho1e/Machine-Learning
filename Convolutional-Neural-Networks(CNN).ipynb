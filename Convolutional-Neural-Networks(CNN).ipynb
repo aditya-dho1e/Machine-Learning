{
 "cells": [
  {
   "cell_type": "markdown",
   "id": "e56fbb10",
   "metadata": {},
   "source": [
    "**Convolutional Neural Networks**"
   ]
  },
  {
   "cell_type": "code",
   "execution_count": 10,
   "id": "b8cd5aa4",
   "metadata": {},
   "outputs": [],
   "source": [
    "import tensorflow as tf\n",
    "from tensorflow.keras.preprocessing.image import ImageDataGenerator"
   ]
  },
  {
   "cell_type": "code",
   "execution_count": 9,
   "id": "3eb75477",
   "metadata": {},
   "outputs": [
    {
     "data": {
      "text/plain": [
       "'2.10.0'"
      ]
     },
     "execution_count": 9,
     "metadata": {},
     "output_type": "execute_result"
    }
   ],
   "source": [
    "tf.__version__"
   ]
  },
  {
   "cell_type": "markdown",
   "id": "bda3e8c8",
   "metadata": {},
   "source": [
    "# Data Preprocessing"
   ]
  },
  {
   "cell_type": "code",
   "execution_count": 3,
   "id": "11048d60",
   "metadata": {},
   "outputs": [],
   "source": [
    "# training set"
   ]
  },
  {
   "cell_type": "code",
   "execution_count": 4,
   "id": "7473889e",
   "metadata": {},
   "outputs": [],
   "source": [
    "# image augmentation --> transform images so that the model doesnt over learn "
   ]
  },
  {
   "cell_type": "code",
   "execution_count": 36,
   "id": "93e539fc",
   "metadata": {},
   "outputs": [
    {
     "name": "stdout",
     "output_type": "stream",
     "text": [
      "Found 7998 images belonging to 2 classes.\n"
     ]
    }
   ],
   "source": [
    "train_datagen = ImageDataGenerator(\n",
    "        rescale=1./255,\n",
    "        shear_range=0.2,\n",
    "        zoom_range=0.2,\n",
    "        horizontal_flip=True)\n",
    "\n",
    "train_set = train_datagen.flow_from_directory(\n",
    "        'E:/dataset/training_set',\n",
    "        target_size=(64, 64),\n",
    "        batch_size=32,\n",
    "        class_mode='binary')"
   ]
  },
  {
   "cell_type": "code",
   "execution_count": 37,
   "id": "b8c8414a",
   "metadata": {},
   "outputs": [],
   "source": [
    "# test set"
   ]
  },
  {
   "cell_type": "code",
   "execution_count": 38,
   "id": "9deed1f5",
   "metadata": {},
   "outputs": [
    {
     "name": "stdout",
     "output_type": "stream",
     "text": [
      "Found 2000 images belonging to 2 classes.\n"
     ]
    }
   ],
   "source": [
    "test_datagen = ImageDataGenerator(rescale=1./255)\n",
    "\n",
    "test_set = test_datagen.flow_from_directory(\n",
    "        'E:/dataset/test_set',\n",
    "        target_size=(64, 64),\n",
    "        batch_size=32,\n",
    "        class_mode='binary')"
   ]
  },
  {
   "cell_type": "markdown",
   "id": "f58d93bd",
   "metadata": {},
   "source": [
    "# Building the CNN"
   ]
  },
  {
   "cell_type": "code",
   "execution_count": 14,
   "id": "fbed8534",
   "metadata": {},
   "outputs": [],
   "source": [
    "# initialising the cnn"
   ]
  },
  {
   "cell_type": "code",
   "execution_count": 15,
   "id": "5855ef9a",
   "metadata": {},
   "outputs": [],
   "source": [
    "cnn = tf.keras.models.Sequential()"
   ]
  },
  {
   "cell_type": "markdown",
   "id": "9ec57b35",
   "metadata": {},
   "source": [
    "**Convolution**"
   ]
  },
  {
   "cell_type": "code",
   "execution_count": 17,
   "id": "25c93948",
   "metadata": {},
   "outputs": [],
   "source": [
    "cnn.add(tf.keras.layers.Conv2D(filters=32, kernel_size=3, activation='relu', input_shape=[64,64,3]))"
   ]
  },
  {
   "cell_type": "markdown",
   "id": "0b49704b",
   "metadata": {},
   "source": [
    "**Pooling**"
   ]
  },
  {
   "cell_type": "code",
   "execution_count": 18,
   "id": "ce827d9c",
   "metadata": {},
   "outputs": [],
   "source": [
    "cnn.add(tf.keras.layers.MaxPool2D(pool_size=2, strides=2))"
   ]
  },
  {
   "cell_type": "code",
   "execution_count": 19,
   "id": "a8e980ca",
   "metadata": {},
   "outputs": [],
   "source": [
    "# adding second convolutional layer"
   ]
  },
  {
   "cell_type": "code",
   "execution_count": 20,
   "id": "c9bb9034",
   "metadata": {},
   "outputs": [],
   "source": [
    "#we dont need to add input_shape again bcoz it needs to be specified only once\n",
    "cnn.add(tf.keras.layers.Conv2D(filters=32, kernel_size=3, activation='relu')) \n",
    "cnn.add(tf.keras.layers.MaxPool2D(pool_size=2, strides=2))"
   ]
  },
  {
   "cell_type": "markdown",
   "id": "1da67edf",
   "metadata": {},
   "source": [
    "**Flattening**"
   ]
  },
  {
   "cell_type": "code",
   "execution_count": 21,
   "id": "0c087ec0",
   "metadata": {},
   "outputs": [],
   "source": [
    "# keras automatically understands that flattening is the result of all above conv layers"
   ]
  },
  {
   "cell_type": "code",
   "execution_count": 22,
   "id": "0bb4142c",
   "metadata": {},
   "outputs": [],
   "source": [
    "cnn.add(tf.keras.layers.Flatten())"
   ]
  },
  {
   "cell_type": "markdown",
   "id": "a2b079d0",
   "metadata": {},
   "source": [
    "**Full Connection**"
   ]
  },
  {
   "cell_type": "code",
   "execution_count": 24,
   "id": "ea829160",
   "metadata": {},
   "outputs": [],
   "source": [
    "cnn.add(tf.keras.layers.Dense(units=64, activation='relu'))"
   ]
  },
  {
   "cell_type": "markdown",
   "id": "2f66caf5",
   "metadata": {},
   "source": [
    "**Output Layer**"
   ]
  },
  {
   "cell_type": "code",
   "execution_count": 25,
   "id": "30e75cd5",
   "metadata": {},
   "outputs": [],
   "source": [
    "cnn.add(tf.keras.layers.Dense(units=1, activation='sigmoid'))"
   ]
  },
  {
   "cell_type": "markdown",
   "id": "127fc5fa",
   "metadata": {},
   "source": [
    "# Training the CNN"
   ]
  },
  {
   "cell_type": "code",
   "execution_count": 26,
   "id": "4bb9c73c",
   "metadata": {},
   "outputs": [],
   "source": [
    "# compiling the cnn"
   ]
  },
  {
   "cell_type": "code",
   "execution_count": 29,
   "id": "151ea855",
   "metadata": {},
   "outputs": [],
   "source": [
    "cnn.compile(optimizer='adam', loss='binary_crossentropy',metrics=['accuracy'])"
   ]
  },
  {
   "cell_type": "code",
   "execution_count": 30,
   "id": "e1250509",
   "metadata": {},
   "outputs": [],
   "source": [
    "# training cnn on training set and evaluating on test set"
   ]
  },
  {
   "cell_type": "code",
   "execution_count": 41,
   "id": "c99fe8fa",
   "metadata": {},
   "outputs": [
    {
     "name": "stdout",
     "output_type": "stream",
     "text": [
      "Epoch 1/25\n",
      "250/250 [==============================] - 88s 349ms/step - loss: 0.6817 - accuracy: 0.5670 - val_loss: 0.6533 - val_accuracy: 0.6395\n",
      "Epoch 2/25\n",
      "250/250 [==============================] - 40s 160ms/step - loss: 0.6412 - accuracy: 0.6425 - val_loss: 0.6074 - val_accuracy: 0.6830\n",
      "Epoch 3/25\n",
      "250/250 [==============================] - 43s 174ms/step - loss: 0.5940 - accuracy: 0.6814 - val_loss: 0.5869 - val_accuracy: 0.6915\n",
      "Epoch 4/25\n",
      "250/250 [==============================] - 44s 175ms/step - loss: 0.5569 - accuracy: 0.7078 - val_loss: 0.5414 - val_accuracy: 0.7355\n",
      "Epoch 5/25\n",
      "250/250 [==============================] - 42s 169ms/step - loss: 0.5317 - accuracy: 0.7361 - val_loss: 0.5537 - val_accuracy: 0.7265\n",
      "Epoch 6/25\n",
      "250/250 [==============================] - 43s 172ms/step - loss: 0.5148 - accuracy: 0.7512 - val_loss: 0.4995 - val_accuracy: 0.7585\n",
      "Epoch 7/25\n",
      "250/250 [==============================] - 44s 174ms/step - loss: 0.4874 - accuracy: 0.7668 - val_loss: 0.5080 - val_accuracy: 0.7570\n",
      "Epoch 8/25\n",
      "250/250 [==============================] - 44s 175ms/step - loss: 0.4801 - accuracy: 0.7664 - val_loss: 0.4885 - val_accuracy: 0.7650\n",
      "Epoch 9/25\n",
      "250/250 [==============================] - 43s 172ms/step - loss: 0.4657 - accuracy: 0.7737 - val_loss: 0.4817 - val_accuracy: 0.7770\n",
      "Epoch 10/25\n",
      "250/250 [==============================] - 44s 175ms/step - loss: 0.4481 - accuracy: 0.7809 - val_loss: 0.4893 - val_accuracy: 0.7715\n",
      "Epoch 11/25\n",
      "250/250 [==============================] - 43s 172ms/step - loss: 0.4291 - accuracy: 0.8015 - val_loss: 0.4720 - val_accuracy: 0.7805\n",
      "Epoch 12/25\n",
      "250/250 [==============================] - 44s 175ms/step - loss: 0.4087 - accuracy: 0.8147 - val_loss: 0.4602 - val_accuracy: 0.7985\n",
      "Epoch 13/25\n",
      "250/250 [==============================] - 43s 174ms/step - loss: 0.3967 - accuracy: 0.8161 - val_loss: 0.5101 - val_accuracy: 0.7820\n",
      "Epoch 14/25\n",
      "250/250 [==============================] - 42s 166ms/step - loss: 0.3887 - accuracy: 0.8258 - val_loss: 0.5774 - val_accuracy: 0.7700\n",
      "Epoch 15/25\n",
      "250/250 [==============================] - 44s 176ms/step - loss: 0.3697 - accuracy: 0.8335 - val_loss: 0.4643 - val_accuracy: 0.8010\n",
      "Epoch 16/25\n",
      "250/250 [==============================] - 46s 183ms/step - loss: 0.3495 - accuracy: 0.8446 - val_loss: 0.5112 - val_accuracy: 0.7800\n",
      "Epoch 17/25\n",
      "250/250 [==============================] - 44s 176ms/step - loss: 0.3350 - accuracy: 0.8560 - val_loss: 0.5101 - val_accuracy: 0.7900\n",
      "Epoch 18/25\n",
      "250/250 [==============================] - 43s 170ms/step - loss: 0.3282 - accuracy: 0.8546 - val_loss: 0.4958 - val_accuracy: 0.7975\n",
      "Epoch 19/25\n",
      "250/250 [==============================] - 43s 171ms/step - loss: 0.3131 - accuracy: 0.8633 - val_loss: 0.5156 - val_accuracy: 0.7970\n",
      "Epoch 20/25\n",
      "250/250 [==============================] - 42s 167ms/step - loss: 0.3027 - accuracy: 0.8695 - val_loss: 0.5092 - val_accuracy: 0.8015\n",
      "Epoch 21/25\n",
      "250/250 [==============================] - 43s 170ms/step - loss: 0.2861 - accuracy: 0.8790 - val_loss: 0.5276 - val_accuracy: 0.7950\n",
      "Epoch 22/25\n",
      "250/250 [==============================] - 44s 176ms/step - loss: 0.2746 - accuracy: 0.8822 - val_loss: 0.5556 - val_accuracy: 0.7810\n",
      "Epoch 23/25\n",
      "250/250 [==============================] - 39s 157ms/step - loss: 0.2646 - accuracy: 0.8873 - val_loss: 0.5199 - val_accuracy: 0.7925\n",
      "Epoch 24/25\n",
      "250/250 [==============================] - 44s 174ms/step - loss: 0.2460 - accuracy: 0.8991 - val_loss: 0.5911 - val_accuracy: 0.7885\n",
      "Epoch 25/25\n",
      "250/250 [==============================] - 42s 169ms/step - loss: 0.2315 - accuracy: 0.9034 - val_loss: 0.6042 - val_accuracy: 0.7950\n"
     ]
    },
    {
     "data": {
      "text/plain": [
       "<keras.callbacks.History at 0x2850f4b91c0>"
      ]
     },
     "execution_count": 41,
     "metadata": {},
     "output_type": "execute_result"
    }
   ],
   "source": [
    "cnn.fit(x = train_set, validation_data = test_set, epochs=25)"
   ]
  },
  {
   "cell_type": "markdown",
   "id": "9301a4af",
   "metadata": {},
   "source": [
    "# Making Single Prediction"
   ]
  },
  {
   "cell_type": "code",
   "execution_count": 33,
   "id": "ad1a10c0",
   "metadata": {},
   "outputs": [],
   "source": [
    "import numpy as np\n",
    "from tensorflow.keras.preprocessing import image"
   ]
  },
  {
   "cell_type": "code",
   "execution_count": 40,
   "id": "3efd4178",
   "metadata": {},
   "outputs": [],
   "source": [
    "test_image = image.load_img('e:/dataset/single_prediction/cat_or_dog.jpg', target_size=(64,64))\n",
    "test_image = image.img_to_array(test_image)\n",
    "test_image = np.expand_dims(test_image, axis=0)"
   ]
  },
  {
   "cell_type": "code",
   "execution_count": 42,
   "id": "7527e168",
   "metadata": {},
   "outputs": [
    {
     "name": "stdout",
     "output_type": "stream",
     "text": [
      "1/1 [==============================] - 1s 864ms/step\n"
     ]
    }
   ],
   "source": [
    "result = cnn.predict(test_image)"
   ]
  },
  {
   "cell_type": "code",
   "execution_count": 43,
   "id": "e60828a7",
   "metadata": {},
   "outputs": [
    {
     "name": "stdout",
     "output_type": "stream",
     "text": [
      "Dog\n"
     ]
    }
   ],
   "source": [
    "if result[0][0] == 1:\n",
    "    print('Dog')\n",
    "else:\n",
    "    print('Cat')"
   ]
  },
  {
   "cell_type": "code",
   "execution_count": null,
   "id": "f52ed32e",
   "metadata": {},
   "outputs": [],
   "source": []
  }
 ],
 "metadata": {
  "kernelspec": {
   "display_name": "Python 3 (ipykernel)",
   "language": "python",
   "name": "python3"
  },
  "language_info": {
   "codemirror_mode": {
    "name": "ipython",
    "version": 3
   },
   "file_extension": ".py",
   "mimetype": "text/x-python",
   "name": "python",
   "nbconvert_exporter": "python",
   "pygments_lexer": "ipython3",
   "version": "3.9.7"
  }
 },
 "nbformat": 4,
 "nbformat_minor": 5
}
